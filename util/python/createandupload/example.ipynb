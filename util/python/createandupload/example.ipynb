{
 "cells": [
  {
   "cell_type": "markdown",
   "id": "satisfactory-decline",
   "metadata": {},
   "source": [
    "##### Import metadata files to PyDataverse and create Dataverse objects to upload"
   ]
  },
  {
   "cell_type": "code",
   "execution_count": 1,
   "id": "bright-tennessee",
   "metadata": {},
   "outputs": [],
   "source": [
    "import os\n",
    "from pyDataverse.utils import read_csv_as_dicts\n",
    "import requests"
   ]
  },
  {
   "cell_type": "code",
   "execution_count": 2,
   "id": "friendly-controversy",
   "metadata": {},
   "outputs": [],
   "source": [
    "#read in dataset metadata csv as pyDataverse dictionaries\n",
    "ds_data = read_csv_as_dicts('test/levy_illustrations_dataset.csv', encoding = 'utf-8-sig')"
   ]
  },
  {
   "cell_type": "code",
   "execution_count": 3,
   "id": "reserved-personality",
   "metadata": {},
   "outputs": [],
   "source": [
    "#read in data files metadata csv as pyDataverse dictionaries\n",
    "df_data = read_csv_as_dicts('test/levy_illustrations_datafiles.csv', encoding = 'utf-8-sig')"
   ]
  },
  {
   "cell_type": "code",
   "execution_count": 4,
   "id": "ancient-sherman",
   "metadata": {},
   "outputs": [],
   "source": [
    "#turn dataset dicts into Dataset objects\n",
    "from pyDataverse.models import Dataset\n",
    "ds_lst = []\n",
    "for ds in ds_data:\n",
    "    ds_obj = Dataset()\n",
    "    ds_obj.set(ds)\n",
    "    ds_lst.append(ds_obj)"
   ]
  },
  {
   "cell_type": "code",
   "execution_count": 5,
   "id": "functioning-christianity",
   "metadata": {},
   "outputs": [],
   "source": [
    "#turn data files dicts into Datafile objects\n",
    "from pyDataverse.models import Datafile\n",
    "df_lst = []\n",
    "for df in df_data:\n",
    "    df_obj = Datafile()\n",
    "    df_obj.set(df)\n",
    "    df_lst.append(df_obj)"
   ]
  },
  {
   "cell_type": "markdown",
   "id": "demanding-snowboard",
   "metadata": {},
   "source": [
    "##### POST pyDataverse objects to Harvard Dataverse"
   ]
  },
  {
   "cell_type": "code",
   "execution_count": 6,
   "id": "noble-attribute",
   "metadata": {},
   "outputs": [],
   "source": [
    "import itertools\n",
    "from time import sleep\n",
    "import json"
   ]
  },
  {
   "cell_type": "code",
   "execution_count": 7,
   "id": "transparent-archive",
   "metadata": {},
   "outputs": [],
   "source": [
    "BASE_URL = 'http://localhost:8080'\n",
    "API_TOKEN = 'xxx-yyy-zzz'\n",
    "dv_alias = 'levy_test'"
   ]
  },
  {
   "cell_type": "code",
   "execution_count": 8,
   "id": "living-lightweight",
   "metadata": {},
   "outputs": [
    {
     "data": {
      "text/plain": [
       "{'status': 'OK', 'data': {'version': '5.9', 'build': None}}"
      ]
     },
     "execution_count": 8,
     "metadata": {},
     "output_type": "execute_result"
    }
   ],
   "source": [
    "#test API connection\n",
    "from pyDataverse.api import NativeApi\n",
    "api = NativeApi(BASE_URL, API_TOKEN)\n",
    "resp = api.get_info_version()\n",
    "resp.json()"
   ]
  },
  {
   "cell_type": "code",
   "execution_count": 9,
   "id": "unauthorized-firmware",
   "metadata": {
    "scrolled": true
   },
   "outputs": [
    {
     "name": "stdout",
     "output_type": "stream",
     "text": [
      "Dataset with pid 'doi:10.70122/FK2/SYWNGZ' created.\n",
      "sleeping...\n",
      "successfully uploaded file DwgID10463.jpg\n",
      "sleeping...\n",
      "Dataset with pid 'doi:10.70122/FK2/HQUBZV' created.\n",
      "sleeping...\n",
      "successfully uploaded file DwgID10464.jpg\n",
      "sleeping...\n",
      "Dataset with pid 'doi:10.70122/FK2/N96IC3' created.\n",
      "sleeping...\n",
      "successfully uploaded file DwgID10465.jpg\n",
      "sleeping...\n"
     ]
    }
   ],
   "source": [
    "#create dataset and add file\n",
    "dataset_id_2_pid = {}\n",
    "\n",
    "for (ds, df) in zip(ds_lst, df_lst):\n",
    "    resp_ds = api.create_dataset(dv_alias, ds.json())\n",
    "    if not ('status' in resp_ds.json().keys()) or (resp_ds.json()['status'] != 'OK'):\n",
    "        print('failed to create dataset for '+df.get()['org.filename']+' (skipping)')\n",
    "        sleep(10)\n",
    "        continue\n",
    "    dataset_id_2_pid[ds.get()['org.dataset_id']] = resp_ds.json()['data']['persistentId']\n",
    "    pid = dataset_id_2_pid[df.get()['org.dataset_id']]\n",
    "    # check if indexing is still chugging along:\n",
    "    timestamp_url = \"{0}/datasets/:persistentId/timestamps?persistentId={1}\".format(api.base_url_api_native,pid)\n",
    "    has_stale_index=True\n",
    "    has_stale_perm_index=True\n",
    "    while has_stale_index or has_stale_perm_index:\n",
    "        print('sleeping...')\n",
    "        sleep(10)\n",
    "        # make the API call; if these index stamps are still showing as \"stale\", we'll sleep some more, check again, (repeat)\n",
    "        resp_timestamps=api.get_request(timestamp_url, True)\n",
    "        if 'data' in resp_timestamps.json().keys():\n",
    "            has_stale_index=resp_timestamps.json()['data']['hasStaleIndex']\n",
    "            has_stale_perm_index=resp_timestamps.json()['data']['hasStalePermissionIndex']\n",
    "        else:\n",
    "            print('failed to get a response from /timestamps api; will sleep and try again.')\n",
    "    # OK, the dataset is ready and has been reindexed successfully. Safe to proceed with the file upload.\n",
    "    filename = os.path.join(os.getcwd(), 'illustrations', df.get()['org.filename'])\n",
    "    df.set({\"pid\": pid, \"filename\": filename})\n",
    "    resp_df = api.upload_datafile(pid, filename, df.json())\n",
    "    if not ('status' in resp_df.json().keys()) or (resp_df.json()['status'] != 'OK'):\n",
    "        print('failed to upload file '+df.get()['org.filename'])\n",
    "        sleep(10)\n",
    "        continue\n",
    "    else:\n",
    "        print('successfully uploaded file '+df.get()['org.filename'])\n",
    "    # Again, make sure the dataset has finished reindexing, using the /timestamps API:\n",
    "    has_stale_index=True\n",
    "    has_stale_perm_index=True\n",
    "    while has_stale_index or has_stale_perm_index:\n",
    "        print('sleeping...')\n",
    "        sleep(10)\n",
    "        # make the API call; if these index stamps are still showing as \"stale\", we'll sleep some more, check again, (repeat)\n",
    "        resp_timestamps=api.get_request(timestamp_url, True)\n",
    "        if 'data' in resp_timestamps.json().keys():\n",
    "            has_stale_index=resp_timestamps.json()['data']['hasStaleIndex']\n",
    "            has_stale_perm_index=resp_timestamps.json()['data']['hasStalePermissionIndex']\n",
    "        else:\n",
    "            print('failed to get a response from /timestamps api; will sleep and try again.')\n",
    "    # OK, the dataset has been reindexed successfully. Safe to proceed with the next file.\n"
   ]
  },
  {
   "cell_type": "code",
   "execution_count": 14,
   "id": "patient-spencer",
   "metadata": {},
   "outputs": [
    {
     "name": "stdout",
     "output_type": "stream",
     "text": [
      "{\n",
      "  \"description\": \"http://pi.lib.uchicago.edu/1001/org/ochre/6256105d-a4f7-cd66-1f0a-fd6dda185986\",\n",
      "  \"categories\": [\n",
      "    \"Illustration\"\n",
      "  ],\n",
      "  \"label\": \"DwgID10465.jpg\",\n",
      "  \"pid\": \"doi:10.70122/FK2/65\",\n",
      "  \"filename\": \"/Users/landreev/wrk/katie/batch/batch_02/illustrations/DwgID10465.jpg\"\n",
      "}\n"
     ]
    }
   ],
   "source": [
    "print(df_lst[2].json())"
   ]
  },
  {
   "cell_type": "code",
   "execution_count": null,
   "id": "frequent-purchase",
   "metadata": {},
   "outputs": [],
   "source": [
    "#save list of DOIs\n",
    "df = pd.DataFrame.from_dict(dataset_id_2_pid, orient = \"index\")\n",
    "df[0] = df[0].replace('\\\\n',' ')\n",
    "df.columns = df.columns.astype(str)\n",
    "df = df.rename(columns = {\"0\":\"doi\"})\n",
    "df.to_csv(\"2016_dois.csv\")\n",
    "df.head()"
   ]
  }
 ],
 "metadata": {
  "kernelspec": {
   "display_name": "Python 3",
   "language": "python",
   "name": "python3"
  },
  "language_info": {
   "codemirror_mode": {
    "name": "ipython",
    "version": 3
   },
   "file_extension": ".py",
   "mimetype": "text/x-python",
   "name": "python",
   "nbconvert_exporter": "python",
   "pygments_lexer": "ipython3",
   "version": "3.8.8"
  }
 },
 "nbformat": 4,
 "nbformat_minor": 5
}
